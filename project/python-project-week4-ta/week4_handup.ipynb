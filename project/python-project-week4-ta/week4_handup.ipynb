{
 "cells": [
  {
   "cell_type": "markdown",
   "metadata": {},
   "source": [
    "### SI100B Python Project (Fall, 2021): \n",
    "# Single Cell RNA Sequencing Data Processing - Week 4\n",
    "*******\n",
    "\n",
    "Author: `Xinhang Liu`\n",
    "\n",
    "Email: `liuxh2@shanghaitech.edu.cn` | Update: `2021-12` "
   ]
  },
  {
   "cell_type": "markdown",
   "metadata": {},
   "source": [
    "### Introduction\n",
    "\n",
    "In week 2, we successfully read in the dataset of scRNA-seq and performed a simple pre-processing. In week 3, we performed further dimensionality reduction and clustering operations on the data to demonstrate some simple analysis of scRNA-seq.\n",
    "<br/><br/>\n",
    "\n",
    "In this week, you are expected to:\n",
    " - **Section1**: Automate the whole pipeline. (5 points)\n",
    " - **Section2**: Chase for better performance. (10 points)\n",
    " - **Section3**: Submit your final report! (10 points)\n",
    " - **Have fun!**\n",
    " \n",
    "**NOTE**: Please do not try to cheat local judge by modifying its codes or directly assigning the answer.\n",
    "If you do so, you still cannot pass the online judge.\n",
    "\n",
    "**Run the cell below to import necessary packages and functions.**"
   ]
  },
  {
   "cell_type": "code",
   "execution_count": 1,
   "metadata": {},
   "outputs": [],
   "source": [
    "# IMPORTANT: run this cell before runnng any cell to activate auto re-import\n",
    "%load_ext autoreload\n",
    "%autoreload 2\n",
    "import matplotlib.pyplot as plt\n",
    "import pandas as pd\n",
    "import numpy as np\n",
    "import scipy\n",
    "\n",
    "# plt.style.use(\"fivethirtyeight\")\n",
    "%config InlineBackend.figure_format = 'retina'"
   ]
  },
  {
   "cell_type": "markdown",
   "metadata": {},
   "source": [
    "## Section 1&2: Automate the whole pipeline and chase for better performance. (5 points + 10 points)\n",
    "****"
   ]
  },
  {
   "cell_type": "markdown",
   "metadata": {},
   "source": [
    "For section 1, put what you have done in the past two weeks together to automate the whole pipeline. **Complete code at `scrna/pipeline.py/whole_pipeline`**, where you may see more details.\n",
    "For section 2, try to find out what can be done to improve the performance of clustering. **Modify your code at `scrna/analysis.py`**. You will need to report what you have learned and explain your modification in section 3. You can check out [1][2] for some hint.\n",
    "\n",
    "\n",
    "\n",
    "\n",
    "\n",
    "\n"
   ]
  },
  {
   "cell_type": "markdown",
   "metadata": {},
   "source": [
    "# Note that a new parameter \"algorithm\" is added to function whole_pipeline.\n",
    "algorithm options: 'unsupervised K-means' / 'supervised LDA'"
   ]
  },
  {
   "cell_type": "markdown",
   "metadata": {},
   "source": [
    "### Unsupervised K-means:\n",
    "This performs worse at pca while better at tsne."
   ]
  },
  {
   "cell_type": "code",
   "execution_count": 2,
   "metadata": {
    "scrolled": false
   },
   "outputs": [
    {
     "name": "stdout",
     "output_type": "stream",
     "text": [
      "whole_pipeline starts...\n"
     ]
    },
    {
     "ename": "TypeError",
     "evalue": "whole_pipeline() got an unexpected keyword argument 'algorithm'",
     "output_type": "error",
     "traceback": [
      "\u001b[1;31m---------------------------------------------------------------------------\u001b[0m",
      "\u001b[1;31mTypeError\u001b[0m                                 Traceback (most recent call last)",
      "\u001b[1;32m<ipython-input-2-d70b51d83efb>\u001b[0m in \u001b[0;36m<module>\u001b[1;34m\u001b[0m\n\u001b[0;32m      1\u001b[0m \u001b[1;32mfrom\u001b[0m \u001b[0mscrna\u001b[0m\u001b[1;33m.\u001b[0m\u001b[0mpipeline\u001b[0m \u001b[1;32mimport\u001b[0m \u001b[0mwhole_pipeline\u001b[0m\u001b[1;33m\u001b[0m\u001b[1;33m\u001b[0m\u001b[0m\n\u001b[0;32m      2\u001b[0m \u001b[1;33m\u001b[0m\u001b[0m\n\u001b[1;32m----> 3\u001b[1;33m whole_pipeline(\"data/testdata/matrix.mtx\",\n\u001b[0m\u001b[0;32m      4\u001b[0m                \u001b[1;34m\"data/testdata/genes.tsv\"\u001b[0m\u001b[1;33m,\u001b[0m\u001b[1;33m\u001b[0m\u001b[1;33m\u001b[0m\u001b[0m\n\u001b[0;32m      5\u001b[0m                \u001b[1;34m\"data/testdata/barcodes.tsv\"\u001b[0m\u001b[1;33m,\u001b[0m\u001b[1;33m\u001b[0m\u001b[1;33m\u001b[0m\u001b[0m\n",
      "\u001b[1;32m~\\Desktop\\python-project-week4-ta\\scrna\\pipeline.py\u001b[0m in \u001b[0;36mwrapped_function\u001b[1;34m(*args, **kwargs)\u001b[0m\n\u001b[0;32m     18\u001b[0m         \u001b[0mprint\u001b[0m\u001b[1;33m(\u001b[0m\u001b[1;34mf'{func.__name__} starts...'\u001b[0m\u001b[1;33m)\u001b[0m\u001b[1;33m\u001b[0m\u001b[1;33m\u001b[0m\u001b[0m\n\u001b[0;32m     19\u001b[0m         \u001b[0mx\u001b[0m \u001b[1;33m=\u001b[0m \u001b[0mdatetime\u001b[0m\u001b[1;33m.\u001b[0m\u001b[0mdatetime\u001b[0m\u001b[1;33m.\u001b[0m\u001b[0mnow\u001b[0m\u001b[1;33m(\u001b[0m\u001b[1;33m)\u001b[0m\u001b[1;33m\u001b[0m\u001b[1;33m\u001b[0m\u001b[0m\n\u001b[1;32m---> 20\u001b[1;33m         \u001b[0mret\u001b[0m \u001b[1;33m=\u001b[0m \u001b[0mfunc\u001b[0m\u001b[1;33m(\u001b[0m\u001b[1;33m*\u001b[0m\u001b[0margs\u001b[0m\u001b[1;33m,\u001b[0m \u001b[1;33m**\u001b[0m\u001b[0mkwargs\u001b[0m\u001b[1;33m)\u001b[0m\u001b[1;33m\u001b[0m\u001b[1;33m\u001b[0m\u001b[0m\n\u001b[0m\u001b[0;32m     21\u001b[0m         \u001b[0my\u001b[0m \u001b[1;33m=\u001b[0m \u001b[0mdatetime\u001b[0m\u001b[1;33m.\u001b[0m\u001b[0mdatetime\u001b[0m\u001b[1;33m.\u001b[0m\u001b[0mnow\u001b[0m\u001b[1;33m(\u001b[0m\u001b[1;33m)\u001b[0m\u001b[1;33m\u001b[0m\u001b[1;33m\u001b[0m\u001b[0m\n\u001b[0;32m     22\u001b[0m         \u001b[0mprint\u001b[0m\u001b[1;33m(\u001b[0m\u001b[1;34mf'{func.__name__} running time:  {y - x}s'\u001b[0m\u001b[1;33m)\u001b[0m\u001b[1;33m\u001b[0m\u001b[1;33m\u001b[0m\u001b[0m\n",
      "\u001b[1;31mTypeError\u001b[0m: whole_pipeline() got an unexpected keyword argument 'algorithm'"
     ]
    }
   ],
   "source": [
    "from scrna.pipeline import whole_pipeline\n",
    "\n",
    "whole_pipeline(\"data/testdata/matrix.mtx\",\n",
    "               \"data/testdata/genes.tsv\",\n",
    "               \"data/testdata/barcodes.tsv\",\n",
    "              pca_n=10,\n",
    "              algorithm='unsupervised K-means'\n",
    "              )"
   ]
  },
  {
   "cell_type": "markdown",
   "metadata": {},
   "source": [
    "### Supervised LDA:\n",
    "This performs better at pca while worse at tsne.\n",
    "(Sometimes not it seems)"
   ]
  },
  {
   "cell_type": "code",
   "execution_count": null,
   "metadata": {
    "scrolled": false
   },
   "outputs": [],
   "source": [
    "from scrna.pipeline import whole_pipeline\n",
    "\n",
    "whole_pipeline(\"data/testdata/matrix.mtx\",\n",
    "               \"data/testdata/genes.tsv\",\n",
    "               \"data/testdata/barcodes.tsv\",\n",
    "              pca_n=10,\n",
    "              algorithm='supervised LDA'\n",
    "              )\n",
    "\n",
    "# supervised scatter plots below are sparser, since the cells plotted in the graphs are only \n",
    "# the ones in the test set, which amount to merely a quarter of the total number."
   ]
  },
  {
   "cell_type": "markdown",
   "metadata": {},
   "source": [
    "## Section 3: Final report (10 points)"
   ]
  },
  {
   "cell_type": "markdown",
   "metadata": {},
   "source": [
    "Write a brief report about what you have learned and how you implemented these tasks, which contains no more than 2 pages. You should upload it as a pdf file."
   ]
  },
  {
   "cell_type": "markdown",
   "metadata": {},
   "source": [
    "## Reference\n",
    "```\n",
    "[1] Clustering 3K PBMCs with Scanpy https://training.galaxyproject.org/training-material/topics/transcriptomics/tutorials/scrna-scanpy-pbmc3k/tutorial.html\n",
    "[2] Preprocessing and clustering 3k PBMCs https://scanpy-tutorials.readthedocs.io/en/latest/pbmc3k.html\n",
    "```"
   ]
  }
 ],
 "metadata": {
  "interpreter": {
   "hash": "aec683173683c4933fe1ac598ecd2ded459d0fdfe467fe8adbc038501e770122"
  },
  "kernelspec": {
   "display_name": "Python 3",
   "language": "python",
   "name": "python3"
  },
  "language_info": {
   "codemirror_mode": {
    "name": "ipython",
    "version": 3
   },
   "file_extension": ".py",
   "mimetype": "text/x-python",
   "name": "python",
   "nbconvert_exporter": "python",
   "pygments_lexer": "ipython3",
   "version": "3.8.8"
  }
 },
 "nbformat": 4,
 "nbformat_minor": 2
}
