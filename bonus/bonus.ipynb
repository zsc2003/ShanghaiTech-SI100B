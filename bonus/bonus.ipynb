{
 "cells": [
  {
   "cell_type": "markdown",
   "id": "a8443cc4",
   "metadata": {},
   "source": [
    "# SI100B bonus\n",
    "*******\n",
    "\n",
    "Author: `李钟楷、朱哲霖、周守琛`\n"
   ]
  },
  {
   "cell_type": "markdown",
   "id": "ac21c3a4",
   "metadata": {},
   "source": [
    "# Part I\n",
    "\n",
    "### Statistical charts"
   ]
  },
  {
   "cell_type": "markdown",
   "id": "c19137e1",
   "metadata": {},
   "source": [
    "## section 1. 通过爬虫获取数据"
   ]
  },
  {
   "cell_type": "code",
   "execution_count": 3,
   "id": "58903e85",
   "metadata": {
    "scrolled": false
   },
   "outputs": [
    {
     "name": "stdout",
     "output_type": "stream",
     "text": [
      "(2021, 1, 1) __read_data_from_csv 0:00:00.022348\n",
      "(2021, 1, 2) __read_data_from_csv 0:00:00.008009\n",
      "(2021, 1, 3) __read_data_from_csv 0:00:00.010972\n",
      "(2021, 1, 4) __read_data_from_csv 0:00:00.006981\n",
      "(2021, 1, 5) __read_data_from_csv 0:00:00.007979\n",
      "(2021, 1, 6) __read_data_from_csv 0:00:00.006984\n",
      "(2021, 1, 7) __read_data_from_csv 0:00:00.007969\n",
      "vaccinated data successfully crawled\n",
      "latest vaccinated data saved\n",
      "__set_vaccination_data 0:00:02.268621\n",
      "tested data successfully crawled\n",
      "latest tested data saved\n",
      "__set_tests_data 0:00:02.193927\n",
      "MultipleData 0:00:04.629457\n",
      "             0:00:04.629457\n",
      "             0:00:00\n"
     ]
    }
   ],
   "source": [
    "from bs4 import BeautifulSoup\n",
    "import requests\n",
    "import datetime\n",
    "import csv\n",
    "import xlwt\n",
    "import pandas as pd\n",
    "from functools import wraps\n",
    "import matplotlib.pyplot as plt\n",
    "import seaborn as sns\n",
    "import datetime\n",
    "import math\n",
    "\n",
    "import JHU_spider as dt\n",
    "total_time = datetime.timedelta()\n",
    "\n",
    "from JHU_spider import MultipleData\n",
    "data = MultipleData(start=(2021, 1, 1), end=(2021, 1, 7))\n",
    "#print(type(data[2021, 1, 3]['California']['deaths']))"
   ]
  },
  {
   "cell_type": "markdown",
   "id": "ee787a10",
   "metadata": {},
   "source": [
    "## section 2. histogram chart\n",
    "\n",
    "- 输入日期,要查看的数据类别\n",
    "\n",
    "- 即可生成相应的直方图\n",
    "\n",
    "- example\n",
    "\n",
    "```\n",
    "input date:\n",
    "2021,1,1\n",
    "\n",
    "input attr:\n",
    "confirmed\n",
    "deaths\n",
    "...\n",
    "```"
   ]
  },
  {
   "cell_type": "code",
   "execution_count": null,
   "id": "2aa2d339",
   "metadata": {},
   "outputs": [],
   "source": [
    "from histogram import histogram1\n",
    "from JHU_spider import DailyData\n",
    "\n",
    "while True:\n",
    "    date = input('input date: ')\n",
    "    attr = input('input attr: ')\n",
    "    states_list=DailyData.states_list\n",
    "    histogram1(states_list=states_list, data=data, date=date, attr=attr)"
   ]
  },
  {
   "cell_type": "markdown",
   "id": "4a5d57b2",
   "metadata": {},
   "source": [
    "## section 3. line chart\n",
    "\n",
    "- 输入要查看的地区,数据类别\n",
    "\n",
    "- 即可生成相应的折线图\n",
    "\n",
    "- example\n",
    "\n",
    "```\n",
    "input date:\n",
    "Alabama\n",
    "California\n",
    "\n",
    "input attr:\n",
    "confirmed\n",
    "deaths\n",
    "...\n",
    "```"
   ]
  },
  {
   "cell_type": "code",
   "execution_count": null,
   "id": "50447652",
   "metadata": {},
   "outputs": [],
   "source": [
    "import pandas as pd\n",
    "import math\n",
    "import matplotlib.pyplot as plt\n",
    "import seaborn as sns\n",
    "import datetime\n",
    "from linechart import linechart1\n",
    "\n",
    "while True:\n",
    "    state = input('input state: ')\n",
    "    option = input('input option: ')\n",
    "    linechart1(data=data, state=state, option=option)"
   ]
  },
  {
   "cell_type": "markdown",
   "id": "50778016",
   "metadata": {},
   "source": [
    "## section 4. Americanconfirmed\n",
    "\n",
    "- 运行即可生成美国累计确诊折线图"
   ]
  },
  {
   "cell_type": "code",
   "execution_count": null,
   "id": "0d5341ab",
   "metadata": {},
   "outputs": [],
   "source": [
    "from increase import Americanconfirmed\n",
    "Americanconfirmed(data)"
   ]
  },
  {
   "cell_type": "markdown",
   "id": "0ab20999",
   "metadata": {},
   "source": [
    "## section 5. regressionline\n",
    "\n",
    "- 运行即可生成美国累计确诊散点图,并绘制线性回归直线"
   ]
  },
  {
   "cell_type": "code",
   "execution_count": null,
   "id": "d20e849f",
   "metadata": {},
   "outputs": [],
   "source": [
    "from regressionline import regressionline\n",
    "regressionline(data)"
   ]
  },
  {
   "cell_type": "code",
   "execution_count": 10,
   "id": "6ee4cf05",
   "metadata": {},
   "outputs": [
    {
     "ename": "ModuleNotFoundError",
     "evalue": "No module named 'plotly'",
     "output_type": "error",
     "traceback": [
      "\u001b[1;31m---------------------------------------------------------------------------\u001b[0m",
      "\u001b[1;31mModuleNotFoundError\u001b[0m                       Traceback (most recent call last)",
      "\u001b[1;32m<ipython-input-10-e23f2159cf60>\u001b[0m in \u001b[0;36m<module>\u001b[1;34m\u001b[0m\n\u001b[1;32m----> 1\u001b[1;33m \u001b[1;32mimport\u001b[0m \u001b[0mplotly\u001b[0m\u001b[1;33m\u001b[0m\u001b[1;33m\u001b[0m\u001b[0m\n\u001b[0m\u001b[0;32m      2\u001b[0m \u001b[1;32mfrom\u001b[0m \u001b[0mplotly\u001b[0m\u001b[1;33m.\u001b[0m\u001b[0mgraph_objs\u001b[0m \u001b[1;32mimport\u001b[0m \u001b[0mScatter\u001b[0m\u001b[1;33m,\u001b[0m\u001b[0mLayout\u001b[0m\u001b[1;33m\u001b[0m\u001b[1;33m\u001b[0m\u001b[0m\n\u001b[0;32m      3\u001b[0m \u001b[1;33m\u001b[0m\u001b[0m\n\u001b[0;32m      4\u001b[0m \u001b[1;32mimport\u001b[0m \u001b[0mplotly\u001b[0m\u001b[1;33m.\u001b[0m\u001b[0moffline\u001b[0m \u001b[1;32mas\u001b[0m \u001b[0mpy\u001b[0m\u001b[1;33m\u001b[0m\u001b[1;33m\u001b[0m\u001b[0m\n\u001b[0;32m      5\u001b[0m \u001b[1;32mimport\u001b[0m \u001b[0mnumpy\u001b[0m \u001b[1;32mas\u001b[0m \u001b[0mnp\u001b[0m\u001b[1;33m\u001b[0m\u001b[1;33m\u001b[0m\u001b[0m\n",
      "\u001b[1;31mModuleNotFoundError\u001b[0m: No module named 'plotly'"
     ]
    }
   ],
   "source": [
    "import plotly\n",
    "from plotly.graph_objs import Scatter,Layout\n",
    "\n",
    "import plotly.offline as py\n",
    "import numpy as np\n",
    "import plotly.graph_objs as go\n",
    "\n",
    "#setting offilne\n",
    "plotly.offline.init_notebook_mode(connected=True)\n",
    "from JHU_spider import DateIterator\n",
    "def line_graph(state: str, attr: str, start=(2021, 1, 1), end=(2021, 1, 8)):\n",
    "    global data\n",
    "    \n",
    "    x = [f'{year}-{month}-{day}' for year, month, day in iter(DateIterator(start=start, end=end))]\n",
    "    y = [data[year, month, day][state][attr] for year, month, day in iter(DateIterator(start=start, end=end))]\n",
    "    \n",
    "    trace = go.Scatter(\n",
    "        x = x,\n",
    "        y = y,\n",
    "        mode = 'lines',\n",
    "        name = 'lines',\n",
    "    )\n",
    "    graph_data = [trace]\n",
    "    py.iplot(graph_data)\n",
    "\n",
    "print(type(data))\n",
    "print(data)\n",
    "\n",
    "\n",
    "while True:\n",
    "    state = input('input state: ')\n",
    "    attr = input('input attr: ')\n",
    "    start = tuple(map(int, input('input start date: ').split('-')))\n",
    "    end = tuple(map(int, input('input end date: ').split('-')))\n",
    "    \n",
    "    line_graph(start=start, end=end, state=state, attr=attr)"
   ]
  },
  {
   "cell_type": "markdown",
   "id": "29d34203",
   "metadata": {},
   "source": [
    "# Part II\n",
    "\n",
    "### Maps"
   ]
  },
  {
   "cell_type": "code",
   "execution_count": null,
   "id": "9c56590e",
   "metadata": {},
   "outputs": [],
   "source": []
  }
 ],
 "metadata": {
  "kernelspec": {
   "display_name": "Python 3",
   "language": "python",
   "name": "python3"
  },
  "language_info": {
   "codemirror_mode": {
    "name": "ipython",
    "version": 3
   },
   "file_extension": ".py",
   "mimetype": "text/x-python",
   "name": "python",
   "nbconvert_exporter": "python",
   "pygments_lexer": "ipython3",
   "version": "3.8.8"
  }
 },
 "nbformat": 4,
 "nbformat_minor": 5
}
